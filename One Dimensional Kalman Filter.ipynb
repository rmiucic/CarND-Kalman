{
 "cells": [
  {
   "cell_type": "markdown",
   "metadata": {},
   "source": [
    "# 1D Kalman Filter"
   ]
  },
  {
   "cell_type": "markdown",
   "metadata": {},
   "source": [
    "Code bellow is an example of the steps for the one dimensional Kalman Filter.\n",
    "1. update\n",
    "2. predict\n"
   ]
  },
  {
   "cell_type": "code",
   "execution_count": 4,
   "metadata": {},
   "outputs": [
    {
     "name": "stdout",
     "output_type": "stream",
     "text": [
      "[4.998000799680128, 3.9984006397441023]\n",
      "[5.998000799680128, 5.998400639744102]\n",
      "-----\n",
      "[5.999200191953932, 2.399744061425258]\n",
      "[6.999200191953932, 4.399744061425258]\n",
      "-----\n",
      "[6.999619127420922, 2.0951800575117594]\n",
      "[8.999619127420921, 4.09518005751176]\n",
      "-----\n",
      "[8.999811802788143, 2.0235152416216957]\n",
      "[9.999811802788143, 4.023515241621696]\n",
      "-----\n",
      "[9.999906177177365, 2.0058615808441944]\n",
      "[10.999906177177365, 4.005861580844194]\n",
      "-----\n",
      "[10.999906177177365, 4.005861580844194]\n"
     ]
    }
   ],
   "source": [
    "# Write a program that will iteratively update and\n",
    "# predict based on the location measurements \n",
    "# and inferred motions shown below. \n",
    "\n",
    "def update(mean1, var1, mean2, var2):\n",
    "    new_mean = float(var2 * mean1 + var1 * mean2) / (var1 + var2)\n",
    "    new_var = 1./(1./var1 + 1./var2)\n",
    "    return [new_mean, new_var]\n",
    "\n",
    "def predict(mean1, var1, mean2, var2):\n",
    "    new_mean = mean1 + mean2\n",
    "    new_var = var1 + var2\n",
    "    return [new_mean, new_var]\n",
    "\n",
    "measurements = [5., 6., 7., 9., 10.]\n",
    "motion = [1., 1., 2., 1., 1.]\n",
    "measurement_sig = 4.\n",
    "motion_sig = 2.\n",
    "mu = 0.\n",
    "sig = 10000.\n",
    "\n",
    "#Please print out ONLY the final values of the mean\n",
    "#and the variance in a list [mu, sig]. \n",
    "\n",
    "# Insert code here\n",
    "for new_measurement,new_motion in zip(measurements,motion):\n",
    "    mu,sig=update(mu, sig, new_measurement, measurement_sig)\n",
    "    print ([mu, sig]) #intermedate values\n",
    "    mu,sig=predict(mu, sig, new_motion, motion_sig)\n",
    "    print ([mu, sig]) #intermedate values\n",
    "    print (\"-----\") #intermedate values\n",
    "    \n",
    "    \n",
    "print ([mu, sig])"
   ]
  },
  {
   "cell_type": "code",
   "execution_count": null,
   "metadata": {
    "collapsed": true
   },
   "outputs": [],
   "source": []
  }
 ],
 "metadata": {
  "kernelspec": {
   "display_name": "Python 3",
   "language": "python",
   "name": "python3"
  },
  "language_info": {
   "codemirror_mode": {
    "name": "ipython",
    "version": 3
   },
   "file_extension": ".py",
   "mimetype": "text/x-python",
   "name": "python",
   "nbconvert_exporter": "python",
   "pygments_lexer": "ipython3",
   "version": "3.6.2"
  }
 },
 "nbformat": 4,
 "nbformat_minor": 2
}
